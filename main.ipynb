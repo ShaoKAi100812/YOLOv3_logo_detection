{
 "cells": [
  {
   "attachments": {},
   "cell_type": "markdown",
   "metadata": {},
   "source": [
    "# YOLOv3 for Flickr Logos 27 dataset from torchvision\n",
    "\n",
    "### Minimum Requirements:\n",
    "- Train a PyTorch model to detect logos.\n",
    "- Implement IoU metrics and augmentation techniques.\n",
    "\n",
    "### Extra Points (Optional):\n",
    "- Implement test-time augmentation.\n",
    "- Explore additional metric learning methods to improve class differentiation.\n",
    "- Emphasize quality code and abstract thinking.\n"
   ]
  },
  {
   "attachments": {},
   "cell_type": "markdown",
   "metadata": {},
   "source": [
    "## Import packages"
   ]
  },
  {
   "cell_type": "code",
   "execution_count": 1,
   "metadata": {},
   "outputs": [],
   "source": [
    "import torch\n",
    "import torch.nn as nn\n",
    "import torch.optim as optim\n",
    "from tqdm import tqdm\n",
    "from torch.utils.data import DataLoader\n",
    "import config\n",
    "from utils import fix_seed, check_class_accuracy, \\\n",
    "    cells_to_bboxes, non_max_suppression, plot_image, YOLODataset"
   ]
  },
  {
   "cell_type": "markdown",
   "metadata": {},
   "source": [
    "## Build YOLOv3 architecture\n",
    "\n",
    "**Darknet-53 architecture**   \n",
    "<center>\n",
    "\n",
    "![Alt text](image/darknet_53_table.png \"a title\")\n",
    "</center>\n",
    "\n",
    "The elements of the `CONFIG` include tuples, lists, and strings, which correspond to different types of layers.  \n",
    "\n",
    "**Tuple** is structured by and signifies a convolutional block (out_channels, kernel_size, stride)  \n",
    "**List** is structured by and signifies a residual block [\"Residual\"/`ResidualBlock()`, number_of_repeat]  \n",
    "**\"Residual\"** indicating a residual block followed by the number of repeats  \n",
    "**\"Scale\"** is for a scale prediction block and computing the yolo loss  \n",
    "**\"Upsample\"** is for upsampling the feature map"
   ]
  },
  {
   "cell_type": "code",
   "execution_count": 2,
   "metadata": {},
   "outputs": [],
   "source": [
    "CONFIG = [\n",
    "    (32, 3, 1),\n",
    "    (64, 3, 2),\n",
    "    [\"Residual\", 1],\n",
    "    (128, 3, 2),\n",
    "    [\"Residual\", 2],\n",
    "    (256, 3, 2),\n",
    "    [\"Residual\", 8],\n",
    "    # first route from the end of the previous block\n",
    "    (512, 3, 2),\n",
    "    [\"Residual\", 8], \n",
    "    # second route from the end of the previous block\n",
    "    (1024, 3, 2),\n",
    "    [\"Residual\", 4],\n",
    "    # until here is Darknet-53\n",
    "    (512, 1, 1),\n",
    "    (1024, 3, 1),\n",
    "    \"Scale\",\n",
    "    (256, 1, 1),\n",
    "    \"Upsample\",\n",
    "    (256, 1, 1),\n",
    "    (512, 3, 1),\n",
    "    \"Scale\",\n",
    "    (128, 1, 1),\n",
    "    \"Upsample\",\n",
    "    (128, 1, 1),\n",
    "    (256, 3, 1),\n",
    "    \"Scale\",\n",
    "]"
   ]
  },
  {
   "cell_type": "markdown",
   "metadata": {},
   "source": [
    "With the help of the diagram, we can have a better understanding of the relationship between the architecture of YOLOv3 and its `CONFIG`, and we can also have a clearer idea of when to use the classes provided by us.\n",
    "<center>\n",
    "\n",
    "![Alt text](image/yolov3_custom.jpg \"a title\")\n",
    "</center>\n",
    "\n",
    "The following three classes correspond to the three subregions as shown in the YOLOv3 architecture diagram (red).  \n",
    "\n",
    "1. The `CNNBlock()`: corresponds to the DBL in the diagram, and through the parameter bn_act, we can control whether to add Batch Normalization and Leaky ReLU after the convolutional layer.  \n",
    "\n",
    "2. The `ResidualBlock()` corresponds to the res unit in the diagram, and through the parameter use_residual, we can control whether to add the residual connection. Also, we can control the number of repeats of the res unit.  \n",
    "\n",
    "3. The `ScalePrediction()` corresponds to the subregion before output in the diagram, and through the parameter num_classes, we can determine the number of classes to be predicted.  "
   ]
  },
  {
   "cell_type": "code",
   "execution_count": 3,
   "metadata": {},
   "outputs": [],
   "source": [
    "class CNNBlock(nn.Module):\n",
    "    def __init__(self, in_channels, out_channels, bn_act=True, **kwargs):\n",
    "        super().__init__()\n",
    "        self.conv = nn.Conv2d(in_channels, out_channels, bias=not bn_act, **kwargs)\n",
    "        self.bn = nn.BatchNorm2d(out_channels)\n",
    "        self.leaky_relu = nn.LeakyReLU(0.1)\n",
    "        self.use_bn_act = bn_act\n",
    "        \n",
    "    def forward(self, x):\n",
    "        if self.use_bn_act:\n",
    "            return self.leaky_relu(self.bn(self.conv(x)))\n",
    "        else:\n",
    "            return self.conv(x)\n",
    "\n",
    "class ResidualBlock(nn.Module):\n",
    "    def __init__(self, channels, use_residual=True, num_repeats=1):\n",
    "        super().__init__()\n",
    "        self.layers = nn.ModuleList()\n",
    "        for _ in range(num_repeats):\n",
    "            self.layers += [\n",
    "                nn.Sequential(\n",
    "                    CNNBlock(channels, channels // 2, kernel_size=1),\n",
    "                    CNNBlock(channels // 2, channels, kernel_size=3, padding=1),\n",
    "                )\n",
    "            ]\n",
    "        self.use_residual = use_residual\n",
    "        self.num_repeats = num_repeats\n",
    "        \n",
    "    def forward(self, x):\n",
    "        for layer in self.layers:\n",
    "            x = layer(x) + x if self.use_residual else layer(x)\n",
    "        \n",
    "        return x\n",
    "    \n",
    "class ScalePrediction(nn.Module):\n",
    "    def __init__(self, in_channels, num_classes):\n",
    "        super().__init__()\n",
    "        self.pred = nn.Sequential(\n",
    "            CNNBlock(in_channels, 2 * in_channels, kernel_size=3, padding=1),\n",
    "            CNNBlock(2 * in_channels, (num_classes + 5) * 3, bn_act=False, kernel_size=1)\n",
    "        )\n",
    "        self.num_classes = num_classes\n",
    "        \n",
    "    def forward(self, x):\n",
    "        return (\n",
    "            self.pred(x)\n",
    "            .reshape(x.shape[0], 3, self.num_classes + 5, x.shape[2], x.shape[3])\n",
    "            .permute(0, 1, 3, 4, 2)\n",
    "        )   # output shape: (batch_size, 3, grid_size, grid_size, num_classes + 5)\n",
    "        "
   ]
  },
  {
   "cell_type": "markdown",
   "metadata": {},
   "source": [
    "Using the three sub-modules mentioned above, we can build the YOLOv3 architecture according to the `CONFIG`.  "
   ]
  },
  {
   "cell_type": "code",
   "execution_count": 4,
   "metadata": {},
   "outputs": [],
   "source": [
    "class YOLOv3(nn.Module):\n",
    "    def __init__(self, in_channels=3, num_classes=80):\n",
    "        super(YOLOv3, self).__init__()\n",
    "        self.num_classes = num_classes\n",
    "        self.in_channels = in_channels\n",
    "        self.layers = self._create_conv_layers()\n",
    "\n",
    "    def _create_conv_layers(self):\n",
    "        layers = nn.ModuleList()\n",
    "        in_channels = self.in_channels\n",
    "        \n",
    "        for module in CONFIG:        \n",
    "            if isinstance(module, tuple):\n",
    "                out_channels, kernel_size, stride = module\n",
    "                layers.append(\n",
    "                    CNNBlock(\n",
    "                        in_channels,\n",
    "                        out_channels,\n",
    "                        kernel_size=kernel_size,\n",
    "                        stride=stride,\n",
    "                        padding=1 if kernel_size == 3 else 0,\n",
    "                    )\n",
    "                )\n",
    "                in_channels = out_channels\n",
    "\n",
    "            elif isinstance(module, list):\n",
    "                num_repeats = module[1]\n",
    "                layers.append(\n",
    "                    ResidualBlock(\n",
    "                        in_channels,\n",
    "                        num_repeats=num_repeats,\n",
    "                    )\n",
    "                )\n",
    "            \n",
    "            elif isinstance(module, str):\n",
    "                if module == \"Scale\":\n",
    "                    layers += [\n",
    "                        ResidualBlock(in_channels, use_residual=False, num_repeats=1),\n",
    "                        CNNBlock(in_channels, in_channels // 2, kernel_size=1),\n",
    "                        ScalePrediction(in_channels // 2, num_classes=self.num_classes),\n",
    "                    ]\n",
    "                    in_channels = in_channels // 2\n",
    "\n",
    "                elif module == \"Upsample\":\n",
    "                    layers.append(\n",
    "                        nn.Upsample(scale_factor=2),\n",
    "                    )\n",
    "                    in_channels = in_channels * 3\n",
    "                    \n",
    "        return layers\n",
    "    \n",
    "    def forward(self, x):\n",
    "        outputs = []\n",
    "        route_connections = []  # for skip connections\n",
    "        \n",
    "        for layer in self.layers:\n",
    "            if isinstance(layer, ScalePrediction):\n",
    "                # pass\n",
    "                outputs.append(layer(x))\n",
    "                continue\n",
    "            \n",
    "            x = layer(x) # pass the input through the layer\n",
    "            \n",
    "            if isinstance(layer, ResidualBlock) and layer.num_repeats == 8:\n",
    "                route_connections.append(x)   \n",
    "\n",
    "            elif isinstance(layer, nn.Upsample):\n",
    "                x = torch.cat([x, route_connections[-1]], dim=1)\n",
    "                route_connections.pop()\n",
    "        return outputs"
   ]
  },
  {
   "cell_type": "markdown",
   "metadata": {},
   "source": [
    "Then we can run a test to know if model has been built up correctly."
   ]
  },
  {
   "cell_type": "code",
   "execution_count": 5,
   "metadata": {},
   "outputs": [
    {
     "name": "stdout",
     "output_type": "stream",
     "text": [
      "shape of feature_map_1: torch.Size([2, 3, 13, 13, 25])\n",
      "shape of feature_map_2: torch.Size([2, 3, 26, 26, 25])\n",
      "shape of feature_map_3: torch.Size([2, 3, 52, 52, 25])\n",
      "Success!\n"
     ]
    }
   ],
   "source": [
    "def test():\n",
    "    num_classes = 20\n",
    "    model = YOLOv3(num_classes=num_classes)\n",
    "    img_size = 416\n",
    "    x = torch.randn((2, 3, img_size, img_size))\n",
    "    out = model(x)\n",
    "    print(\"shape of feature_map_1:\", out[0].shape)\n",
    "    print(\"shape of feature_map_2:\", out[1].shape)\n",
    "    print(\"shape of feature_map_3:\", out[2].shape)\n",
    "    assert out[0].shape == (2, 3, img_size//32, img_size//32, 5 + num_classes), \"shape of feature_map_1 is wrong\"\n",
    "    assert out[1].shape == (2, 3, img_size//16, img_size//16, 5 + num_classes), \"shape of feature_map_2 is wrong\"\n",
    "    assert out[2].shape == (2, 3, img_size//8, img_size//8, 5 + num_classes), \"shape of feature_map_3 is wrong\"\n",
    "    print(\"Success!\")\n",
    "\n",
    "test()"
   ]
  },
  {
   "attachments": {},
   "cell_type": "markdown",
   "metadata": {},
   "source": [
    "## Implement the YOLO loss\n",
    "### Before calculating the loss, we need to first calculate the IoU.  \n",
    "When evaluating the performance of object detection and segmentation models, Intersection over Union (IoU) is a commonly used metric.  \n",
    "IoU measures the ratio of the overlap between the predicted and ground-truth objects, with the formula:\n",
    "$$\n",
    "IoU = \\frac{intersection\\; area}{union\\; area + 10^{-6}}\n",
    "$$\n",
    "Among, $10^{-6}$ is used to avoid calculation error.  \n",
    "\n",
    "It's more clear to see the graph below.  \n",
    "<center>\n",
    "\n",
    "![Alt text](image/iou.jpeg \"a title\")\n",
    "</center>"
   ]
  },
  {
   "cell_type": "code",
   "execution_count": 6,
   "metadata": {},
   "outputs": [],
   "source": [
    "def iou(boxes_preds, boxes_labels):\n",
    "    \"\"\"\n",
    "    :param boxes_preds (tensor): shape (num_of_preds, 4), where 4 is (x, y, w, h)\n",
    "    :param boxes_labels (tensor): shape (num_of_labels, 4), where 4 is (x, y, w, h)\n",
    "    \"\"\" \n",
    "    \n",
    "    box1_x1 = boxes_preds[..., 0:1] - boxes_preds[..., 2:3] / 2\n",
    "    box1_y1 = boxes_preds[..., 1:2] - boxes_preds[..., 3:4] / 2\n",
    "    box1_x2 = boxes_preds[..., 0:1] + boxes_preds[..., 2:3] / 2\n",
    "    box1_y2 = boxes_preds[..., 1:2] + boxes_preds[..., 3:4] / 2\n",
    "    box2_x1 = boxes_labels[..., 0:1] - boxes_labels[..., 2:3] / 2\n",
    "    box2_y1 = boxes_labels[..., 1:2] - boxes_labels[..., 3:4] / 2\n",
    "    box2_x2 = boxes_labels[..., 0:1] + boxes_labels[..., 2:3] / 2\n",
    "    box2_y2 = boxes_labels[..., 1:2] + boxes_labels[..., 3:4] / 2\n",
    "\n",
    "    x1 = torch.max(box1_x1, box2_x1)\n",
    "    y1 = torch.max(box1_y1, box2_y1)\n",
    "    x2 = torch.min(box1_x2, box2_x2)\n",
    "    y2 = torch.min(box1_y2, box2_y2)\n",
    "\n",
    "    intersection = (x2 - x1).clamp(0) * (y2 - y1).clamp(0)\n",
    "    box1_area = abs((box1_x2 - box1_x1) * (box1_y2 - box1_y1))\n",
    "    box2_area = abs((box2_x2 - box2_x1) * (box2_y2 - box2_y1))\n",
    "    iou = intersection / (box1_area + box2_area - intersection + 1e-6)\n",
    "    \n",
    "    return iou.detach()"
   ]
  },
  {
   "cell_type": "code",
   "execution_count": 7,
   "metadata": {},
   "outputs": [
    {
     "name": "stdout",
     "output_type": "stream",
     "text": [
      "Suceess!\n"
     ]
    }
   ],
   "source": [
    "from utils import intersection_over_union\n",
    "\n",
    "def test():\n",
    "    box1_1 = torch.tensor([[0.5, 0.5, 0.5, 0.5]])\n",
    "    box1_2 = torch.tensor([[0.75, 0.75, 0.5, 0.5]])\n",
    "    box2_1 = torch.tensor([[0, 0, 0, 0], [1, 1, 1, 1]])\n",
    "    box2_2 = torch.tensor([[0, 0, 0, 0], [1, 1, 1, 1]])\n",
    "    \n",
    "    test1_1 = torch.round(iou(box1_1, box1_2)*10000) / 10000\n",
    "    test1_2 = torch.round(intersection_over_union(box1_1, box1_2)* 10000) / 10000\n",
    "    test2_1 = torch.round(iou(box2_1, box2_2)*10000) / 10000\n",
    "    test2_2 = torch.round(intersection_over_union(box2_1, box2_2)* 10000) / 10000\n",
    "    \n",
    "    assert test1_1 == test1_2, \"calculation of iou is wrong\"\n",
    "    assert test2_1.shape == test2_2.shape, \"shape of iou is wrong\"\n",
    "    assert test2_1[0] == test2_2[0], \"be careful of the case when there is nan in the iou\"\n",
    "    print(\"Suceess!\")\n",
    "    \n",
    "test()"
   ]
  },
  {
   "attachments": {},
   "cell_type": "markdown",
   "metadata": {},
   "source": [
    "### Then we can move on the loss calculation.  \n",
    "\n",
    "First we will form two binary tensors signifying where in what cells using which anchors that have objects assigned to them and not. \n",
    "```python      \n",
    "obj = target[..., 0] == 1 \n",
    "noobj = target[..., 0] == 0 \n",
    "```\n",
    "The reason for not only using one of these is that we in the data loading assign the anchors which we should ignore to -1. \n",
    "\n",
    "### 1. No object loss\n",
    "For the anchors in all cells that do not have an object assigned to them i.e. all indices that are set to one in `noobj` we want to incur loss only for their object score. The target will be all zeros since we want these anchors to predict an object score of zero and we will apply a sigmoid function to the network outputs and use a binary crossentropy loss. \n",
    "\n",
    "In mathematics we have that \n",
    "$$\n",
    "\\begin{aligned} \n",
    "L_{noobj} &= \\frac{1}{N \\sum_{a, i,j} \\mathbb{1}_{a\\ i\\ j}^{\\text {noobj }}} \\sum_{n=1}^N \\sum_{a,i,j \\in \\mathbb{1}_{a\\ i \\ j}^{\\text {noobj }}} BCE \\left ( y_{n,a,i,j}^{obj}, \\sigma\\left(t_{n,a,i,j}^{obj}\\right)\\right) \\\\\n",
    "&=\\frac{1}{N \\sum_{a, i,j} \\mathbb{1}_{a\\ i\\ j}^{\\text {noobj }}} \\sum_{n=1}^N \\sum_{a,i,j \\in \\mathbb{1}_{a\\ i \\ j}^{\\text {noobj }}} -\\left[y_{n,a,i,j}^{obj} \\cdot \\log \\sigma\\left(t_{n,a,i,j}^{obj}\\right)+\\left(1-y_{n,a,i,j}^{obj}\\right) \\cdot \\log \\left(1-\\sigma(t_{n,a,i,j}^{obj})\\right)\\right]\n",
    "\\end{aligned}\n",
    "$$\n",
    "\n",
    "where $N$ is the batch size, $i,\\ j$ signifies the cell where and $a$ the anchor index and $\\mathbb{1}_{a\\ i\\ j}^{\\text {noobj }}$ is a binary tensor with ones on anchors not assigned to an object. The output from the network is denoted $t$ and the target $y$ and $\\sigma$ is the sigmoid function given by \n",
    "\n",
    "$$\n",
    "\\sigma(x) = \\frac{1}{1+e^{-x}}.\n",
    "$$\n",
    "\n",
    "### 2. Object loss\n",
    "\n",
    "In the code we will convert the model predictions to bounding boxes according to the formulas in the paper\n",
    "$$\n",
    "\\begin{array}{l}\n",
    "b_{x}=\\sigma\\left(t_{x}\\right) \\\\\n",
    "b_{y}=\\sigma\\left(t_{y}\\right) \\\\\n",
    "b_{w}=p_{w} e^{t_{w}} \\\\\n",
    "b_{h}=p_{h} e^{t_{h}},\n",
    "\\end{array} \\\\\n",
    "$$\n",
    "where $p_w$ and $p_h$ are the anchor box dimensions and ($b_x, b_y, b_w, b_h$) is the resulting bounding box relative to the cell. We will then calculate the intersection over union with the target that we defined in the dataset class and lastly as in the no object loss above apply the binary cross entropy loss between the object score predictions and the calculated intersection over union. Note that the loss will only be applied to the anchors assigned to a target bounding box signified by indexing by `obj`.  \n",
    "\n",
    "The mathematical formula will be similar to the one above \n",
    "$$\n",
    "L_{obj}= \\frac{1}{N \\sum_{a, i,j} \\mathbb{1}_{a\\ i\\ j}^{\\text {obj }}} \\sum_{n=1}^N \\sum_{a,i,j \\in \\mathbb{1}_{a\\ i \\ j}^{\\text {obj }}} BCE \\left ( \\hat{y}_{n,a,i,j}^{obj}, \\sigma\\left(t_{n,a,i,j}^{obj}\\right)\\right)\n",
    "$$\n",
    "with \n",
    "$$ \\hat{y} = IOU(y^{box}, b) $$\n",
    "where $b$ is the bounding box computed above and $ \\mathbb{1}_{a\\ i\\ j}^{\\text {obj }}$ corresponds to the binary tensor with ones for the anchors assigned to a target bounding box. \n",
    "\n",
    "### 3. Box coordinates loss\n",
    "For the box coordinates we will simply use a mean squared error loss in the positions where there actually are objects. All predictions where there is no corresponding target bounding box will be ignored. We will apply a sigmoid function to the $x$\n",
    "and $y$ coordinates to make sure that they are between \\[0,1\\] but instead of converting the widths and heights as above we want to compute the ground truth value $\\hat{t}$ that the network should predict. We find it by inverting the formula above for the bounding boxes\n",
    "$$ \n",
    "\\begin{aligned}\n",
    "\\hat{t}_w &= \\log (y_w / p_w) \\\\\n",
    "\\hat{t}_h &= \\log (y_h / p_h)\n",
    "\\end{aligned}\n",
    "$$\n",
    "where the $y_w$ and $y_h$ are the target width and height. We will then apply the mean squared error loss between the targets and predictions.  \n",
    "\n",
    "The formula is given by\n",
    "$$\n",
    "L_{box} = \\frac{1}{N \\sum_{a, i,j} \\mathbb{1}_{a\\ i\\ j}^{\\text {obj }}} \\sum_{n=1}^N \\sum_{a,i,j \\in \\mathbb{1}_{a\\ i \\ j}^{\\text {obj }}}  \\left(\\sigma(t^x_{n,a,i,j}) - y^x_{n,a,i,j} \\right)^2 +\n",
    "\\left(\\sigma(t^y_{n,a,i,j}) - y^y_{n,a,i,j} \\right)^2 +\n",
    "\\left(t^w_{n,a,i,j} - \\hat{t}^w_{n,a,i,j} \\right)^2 +\n",
    "\\left(t^h_{n,a,i,j} - \\hat{t}^h_{n,a,i,j} \\right)^2, \n",
    "$$\n",
    "where $\\hat{t}^*$ is the ground truth labels for what actual values the model should predict.\n",
    "\n",
    "### 4. Class loss\n",
    "We will only incur loss for the class predictions where there actually is an object. Our implementation differs slightly from the paper's in the case of a class loss and we will use a cross entropy loss to compute the class loss. This assumes that each bounding box only has one label. The YOLOv3 motivates that it does not want to have this limitation and instead uses an binary cross entropy such that several labels can be assigned to a single object e.g. woman and person. \n",
    "\n",
    "The formula is given by\n",
    "$$ \n",
    "L_{class} = \\frac{1}{N \\sum_{a, i,j} \\mathbb{1}_{a\\ i\\ j}^{\\text {obj }}} \\sum_{n=1}^N \\sum_{a,i,j \\in \\mathbb{1}_{a\\ i \\ j}^{\\text {obj }}} -\\log \\left(\\frac{\\exp (t_{n, a, i,j}^{c})}{\\sum_{k} \\exp (t_{n, a, i,j}^k)}\\right),\n",
    "$$\n",
    "where $t_{n, a, i,j}^{c}$ is the prediction for the correct class $c$. \n",
    "\n",
    "### **Total loss**\n",
    "$$ L= \\lambda_{noobj} L_{noobj} + \\lambda_{obj} L_{obj} + \\lambda_{box} L_{box} + \\lambda_{class} L_{class} $$\n"
   ]
  },
  {
   "cell_type": "code",
   "execution_count": 8,
   "metadata": {},
   "outputs": [],
   "source": [
    "class YoloLoss(nn.Module):\n",
    "    def __init__(self):\n",
    "        super().__init__()\n",
    "        self.mse = nn.MSELoss()\n",
    "        self.bce = nn.BCEWithLogitsLoss()\n",
    "        self.entropy = nn.CrossEntropyLoss()\n",
    "        self.sigmoid = nn.Sigmoid()\n",
    "\n",
    "        # Constants signifying how much to pay for each respective part of the loss\n",
    "        self.lambda_class = 1\n",
    "        self.lambda_noobj = 1\n",
    "        self.lambda_obj = 10\n",
    "        self.lambda_box = 10\n",
    "\n",
    "    def forward(self, predictions, target, anchors):\n",
    "        \"\"\"\n",
    "        :param predictions: output from model of shape: (batch size, anchors on scale , grid size, grid size, 5 + num classes)\n",
    "        :param target: targets on particular scale of shape: (batch size, anchors on scale, grid size, grid size, 6)\n",
    "        :param anchors: anchor boxes on the particular scale of shape (anchors on scale, 2)\n",
    "        :return: returns the loss on the particular scale\n",
    "        \"\"\"\n",
    "\n",
    "        # Check where obj and noobj (we ignore if target == -1)\n",
    "        # Here we check where in the label matrix there is an object or not\n",
    "        obj = target[..., 0] == 1  # in paper this is Iobj_i\n",
    "        noobj = target[..., 0] == 0  # in paper this is Inoobj_i\n",
    "        \n",
    "        # ======================= #\n",
    "        #   FOR NO OBJECT LOSS    #\n",
    "        # ======================= #\n",
    "        # The indexing noobj refers to the fact that we only apply the loss where there is no object\n",
    "        no_object_loss = self.bce(\n",
    "            (predictions[..., 0:1][noobj]), (target[..., 0:1][noobj]),\n",
    "        )\n",
    "\n",
    "\n",
    "        # ==================== #\n",
    "        #   FOR OBJECT LOSS    #\n",
    "        # ==================== #\n",
    "        # Here we compute the loss for the cells and anchor boxes that contain an object\n",
    "        # Reshape anchors to allow for broadcasting in multiplication below\n",
    "        anchors = anchors.reshape(1, 3, 1, 1, 2)\n",
    "        \n",
    "        box_preds = torch.cat([self.sigmoid(predictions[..., 1:3]), torch.exp(predictions[..., 3:5]) * anchors], dim=-1)\n",
    "        ious = iou(box_preds[obj], target[..., 1:5][obj])\n",
    "        \n",
    "        # Only incur loss for the cells where there is an objects signified by indexing with obj\n",
    "        object_loss = self.bce((predictions[..., 0:1][obj]), (ious * target[..., 0:1][obj]))\n",
    "        \n",
    "        \n",
    "        # ======================== #\n",
    "        #   FOR BOX COORDINATES    #\n",
    "        # ======================== #\n",
    "        # apply sigmoid to x, y coordinates to convert to bounding boxes\n",
    "        predictions[..., 1:3] = self.sigmoid(predictions[..., 1:3]) \n",
    "        # to improve gradient flow we convert targets' width and height to the same format as predictions\n",
    "        target[..., 3:5] = torch.log(\n",
    "            (1e-16 + target[..., 3:5] / anchors)\n",
    "        ) \n",
    "        # compute mse loss for boxes\n",
    "        box_loss = self.mse(predictions[..., 1:5][obj], target[..., 1:5][obj])\n",
    "\n",
    "\n",
    "        # ================== #\n",
    "        #   FOR CLASS LOSS   #\n",
    "        # ================== #\n",
    "        # here we just apply cross entropy loss as is customary with classification problems\n",
    "        class_loss = self.entropy(\n",
    "            (predictions[..., 5:][obj]), (target[..., 5][obj].long()),\n",
    "        )\n",
    "        \n",
    "        # ================== #\n",
    "        #     TOTAL LOSS     #\n",
    "        # ================== #\n",
    "        total_loss = self.lambda_box * box_loss \\\n",
    "            + self.lambda_obj * object_loss \\\n",
    "            + self.lambda_noobj * no_object_loss \\\n",
    "            + self.lambda_class * class_loss\n",
    "        \n",
    "        return total_loss"
   ]
  },
  {
   "attachments": {},
   "cell_type": "markdown",
   "metadata": {},
   "source": [
    "## Build train function and load data"
   ]
  },
  {
   "cell_type": "markdown",
   "metadata": {},
   "source": [
    "### Create train function"
   ]
  },
  {
   "cell_type": "code",
   "execution_count": 9,
   "metadata": {},
   "outputs": [],
   "source": [
    "# torch.backends.cudnn.benchmark = True\n",
    "def train_fn(train_loader, model, optimizer, loss_fn, scaler, scaled_anchors):\n",
    "    loop = tqdm(train_loader, leave=True)\n",
    "    losses = []\n",
    "    for batch_idx, (x, y) in enumerate(loop):\n",
    "        x = x.to(config.DEVICE)\n",
    "        y0, y1, y2 = (\n",
    "            y[0].to(config.DEVICE),\n",
    "            y[1].to(config.DEVICE),\n",
    "            y[2].to(config.DEVICE),\n",
    "        )\n",
    "\n",
    "        with torch.cuda.amp.autocast():\n",
    "            out = model(x)\n",
    "            loss = (\n",
    "                loss_fn(out[0], y0, scaled_anchors[0])\n",
    "                + loss_fn(out[1], y1, scaled_anchors[1])\n",
    "                + loss_fn(out[2], y2, scaled_anchors[2])\n",
    "            )\n",
    "            \n",
    "        losses.append(loss.item())\n",
    "        optimizer.zero_grad()\n",
    "        scaler.scale(loss).backward()\n",
    "        scaler.step(optimizer)\n",
    "        scaler.update()\n",
    "\n",
    "        # update progress bar\n",
    "        mean_loss = sum(losses) / len(losses)\n",
    "        loop.set_postfix(loss=mean_loss)"
   ]
  },
  {
   "attachments": {},
   "cell_type": "markdown",
   "metadata": {},
   "source": [
    "### Create Flickr Logos 27 dataset loading function"
   ]
  },
  {
   "cell_type": "code",
   "execution_count": 10,
   "metadata": {},
   "outputs": [],
   "source": [
    "from torch.utils.data import Dataset\n",
    "from PIL import Image\n",
    "import pandas as pd\n",
    "import numpy as np\n",
    "import os\n",
    "\n",
    "def iou_width_height(boxes1, boxes2):\n",
    "    \"\"\"\n",
    "    Parameters:\n",
    "        boxes1 (tensor): width and height of the first bounding boxes\n",
    "        boxes2 (tensor): width and height of the second bounding boxes\n",
    "    Returns:\n",
    "        tensor: Intersection over union of the corresponding boxes\n",
    "    \"\"\"\n",
    "    intersection = torch.min(boxes1[..., 0], boxes2[..., 0]) * torch.min(\n",
    "        boxes1[..., 1], boxes2[..., 1]\n",
    "    )\n",
    "    union = (\n",
    "        boxes1[..., 0] * boxes1[..., 1] + boxes2[..., 0] * boxes2[..., 1] - intersection\n",
    "    )\n",
    "    return intersection / union\n",
    "\n",
    "class YOLODataset(Dataset):\n",
    "    def __init__(\n",
    "        self,\n",
    "        csv_file,\n",
    "        img_dir, label_dir,\n",
    "        anchors,\n",
    "        image_size=416, # default image size\n",
    "        S=[13, 26, 52], # default grid size\n",
    "        C=20,           # default number of classes\n",
    "        transform=None,\n",
    "    ):\n",
    "        super().__init__()\n",
    "        self.annotations = pd.read_csv(csv_file)\n",
    "        self.img_dir = img_dir\n",
    "        self.label_dir = label_dir\n",
    "        self.transform = transform\n",
    "        self.S = S\n",
    "        self.anchors = torch.tensor(anchors[0] + anchors[1] + anchors[2])   # each scale has 3 anchors\n",
    "        self.num_anchors = self.anchors.shape[0]\n",
    "        self.num_anchors_per_scale = self.num_anchors // 3\n",
    "        self.C = C\n",
    "        self.ignore_iou_thresh = 0.5\n",
    "        \n",
    "    def __len__(self):\n",
    "        return len(self.annotations)\n",
    "    \n",
    "    def __getitem__(self, index):\n",
    "        label_path = os.path.join(self.label_dir, self.annotations.iloc[index, 1])\n",
    "        bboxes = np.roll(np.loadtxt(fname=label_path, delimiter=\" \", ndmin=2), 4, axis=1).tolist()\n",
    "        img_path = os.path.join(self.img_dir, self.annotations.iloc[index, 0])\n",
    "        image = np.array(Image.open(img_path).convert(\"RGB\"))\n",
    "\n",
    "        if self.transform:\n",
    "            augmentations = self.transform(image=image, bboxes=bboxes)\n",
    "            image = augmentations[\"image\"]\n",
    "            bboxes = augmentations[\"bboxes\"]\n",
    "\n",
    "        # Below assumes 3 scale predictions (as paper) and same num of anchors per scale\n",
    "        targets = [torch.zeros((self.num_anchors // 3, S, S, 6)) for S in self.S]\n",
    "        for box in bboxes:\n",
    "            iou_anchors = iou_width_height(torch.tensor(box[2:4]), self.anchors)\n",
    "            anchor_indices = iou_anchors.argsort(descending=True, dim=0)\n",
    "            x, y, width, height, class_label = box\n",
    "            has_anchor = [False] * 3  # each scale should have one anchor\n",
    "            for anchor_idx in anchor_indices:\n",
    "                scale_idx = anchor_idx // self.num_anchors_per_scale\n",
    "                anchor_on_scale = anchor_idx % self.num_anchors_per_scale\n",
    "                S = self.S[scale_idx]\n",
    "                i, j = int(S * y), int(S * x)  # which cell\n",
    "                anchor_taken = targets[scale_idx][anchor_on_scale, i, j, 0]\n",
    "                if not anchor_taken and not has_anchor[scale_idx]:\n",
    "                    targets[scale_idx][anchor_on_scale, i, j, 0] = 1\n",
    "                    x_cell, y_cell = S * x - j, S * y - i  # both between [0,1]\n",
    "                    width_cell, height_cell = (\n",
    "                        width * S,\n",
    "                        height * S,\n",
    "                    )  # can be greater than 1 since it's relative to cell\n",
    "                    box_coordinates = torch.tensor(\n",
    "                        [x_cell, y_cell, width_cell, height_cell]\n",
    "                    )\n",
    "                    targets[scale_idx][anchor_on_scale, i, j, 1:5] = box_coordinates\n",
    "                    targets[scale_idx][anchor_on_scale, i, j, 5] = int(class_label)\n",
    "                    has_anchor[scale_idx] = True\n",
    "\n",
    "                elif not anchor_taken and iou_anchors[anchor_idx] > self.ignore_iou_thresh:\n",
    "                    targets[scale_idx][anchor_on_scale, i, j, 0] = -1  # ignore prediction\n",
    "\n",
    "        return image, tuple(targets)"
   ]
  },
  {
   "cell_type": "code",
   "execution_count": 11,
   "metadata": {},
   "outputs": [],
   "source": [
    "train_csv_path = config.DATASET + \"/pedestrain_film.csv\"\n",
    "test_csv_path = config.DATASET + \"/pedestrain_film_test.csv\"\n",
    "\n",
    "IMAGE_SIZE = config.IMAGE_SIZE\n",
    "\n",
    "train_dataset = YOLODataset(\n",
    "    train_csv_path,\n",
    "    transform=config.train_transforms,\n",
    "    S=[IMAGE_SIZE // 32, IMAGE_SIZE // 16, IMAGE_SIZE // 8],\n",
    "    img_dir=config.IMG_DIR,\n",
    "    label_dir=config.LABEL_DIR,\n",
    "    anchors=config.ANCHORS,\n",
    ")\n",
    "test_dataset = YOLODataset(\n",
    "    test_csv_path,\n",
    "    transform=config.test_transforms,\n",
    "    S=[IMAGE_SIZE // 32, IMAGE_SIZE // 16, IMAGE_SIZE // 8],\n",
    "    img_dir=config.IMG_DIR,\n",
    "    label_dir=config.LABEL_DIR,\n",
    "    anchors=config.ANCHORS,\n",
    ")\n",
    "\n",
    "train_loader = DataLoader(\n",
    "    dataset=train_dataset,\n",
    "    batch_size=config.BATCH_SIZE,\n",
    "    num_workers=config.NUM_WORKERS,\n",
    "    pin_memory=config.PIN_MEMORY,\n",
    "    shuffle=True,\n",
    "    drop_last=False,\n",
    ")\n",
    "test_loader = DataLoader(\n",
    "    dataset=test_dataset,\n",
    "    batch_size=config.BATCH_SIZE,\n",
    "    num_workers=config.NUM_WORKERS,\n",
    "    pin_memory=config.PIN_MEMORY,\n",
    "    shuffle=False,\n",
    "    drop_last=False,\n",
    ")"
   ]
  },
  {
   "attachments": {},
   "cell_type": "markdown",
   "metadata": {},
   "source": [
    "Show some samples"
   ]
  },
  {
   "cell_type": "code",
   "execution_count": 12,
   "metadata": {},
   "outputs": [
    {
     "name": "stderr",
     "output_type": "stream",
     "text": [
      "c:\\Users\\jrimm\\Documents\\tue\\assignment-dl-detection-new\\utils.py:495: UserWarning: __floordiv__ is deprecated, and its behavior will change in a future version of pytorch. It currently rounds toward 0 (like the 'trunc' function NOT 'floor'). This results in incorrect rounding for negative values. To keep the current behavior, use torch.div(a, b, rounding_mode='trunc'), or for actual floor division, use torch.div(a, b, rounding_mode='floor').\n",
      "  scale_idx = anchor_idx // self.num_anchors_per_scale\n"
     ]
    },
    {
     "data": {
      "image/png": "[encoded data removed]",
      "text/plain": [
       "<Figure size 432x288 with 1 Axes>"
      ]
     },
     "metadata": {
      "needs_background": "light"
     },
     "output_type": "display_data"
    },
    {
     "data": {
      "image/png": "[encoded data removed]",
      "text/plain": [
       "<Figure size 432x288 with 1 Axes>"
      ]
     },
     "metadata": {
      "needs_background": "light"
     },
     "output_type": "display_data"
    }
   ],
   "source": [
    "def show_sample():\n",
    "    anchors = config.ANCHORS\n",
    "\n",
    "    transform = config.test_transforms\n",
    "\n",
    "    dataset = YOLODataset(\n",
    "        \"PEDESTRIAN/pedestrain_2_sample.csv\",\n",
    "        \"PEDESTRIAN/images/\",\n",
    "        \"PEDESTRIAN/labels/\",\n",
    "        S=[13, 26, 52],\n",
    "        anchors=anchors,\n",
    "        transform=transform,\n",
    "        C=1,\n",
    "    )\n",
    "    S = [13, 26, 52]\n",
    "    scaled_anchors = torch.tensor(anchors) / (\n",
    "        1 / torch.tensor(S).unsqueeze(1).unsqueeze(1).repeat(1, 3, 2)\n",
    "    )\n",
    "    loader = DataLoader(dataset=dataset, batch_size=1, shuffle=True)\n",
    "    for x, y in loader:\n",
    "        boxes = []\n",
    "\n",
    "        for i in range(y[0].shape[1]):\n",
    "            anchor = scaled_anchors[i]\n",
    "            # print(anchor.shape)\n",
    "            # print(y[i].shape)\n",
    "            boxes += cells_to_bboxes(\n",
    "                y[i], is_preds=False, S=y[i].shape[2], anchors=anchor\n",
    "            )[0]\n",
    "        boxes = non_max_suppression(boxes, iou_threshold=1, threshold=0.7, box_format=\"midpoint\")\n",
    "        # print\n",
    "        plot_image(x[0].permute(1, 2, 0).to(\"cpu\"), boxes)\n",
    "        \n",
    "show_sample()"
   ]
  },
  {
   "cell_type": "code",
   "execution_count": 13,
   "metadata": {},
   "outputs": [
    {
     "ename": "AssertionError",
     "evalue": "",
     "output_type": "error",
     "traceback": [
      "\u001b[1;31m---------------------------------------------------------------------------\u001b[0m",
      "\u001b[1;31mAssertionError\u001b[0m                            Traceback (most recent call last)",
      "\u001b[1;32m~\\AppData\\Local\\Temp/ipykernel_21928/2543632527.py\u001b[0m in \u001b[0;36m<module>\u001b[1;34m\u001b[0m\n\u001b[0;32m      1\u001b[0m \u001b[1;31m# This stops 'Run all' at this cell by causing an error before training\u001b[0m\u001b[1;33m\u001b[0m\u001b[1;33m\u001b[0m\u001b[0m\n\u001b[1;32m----> 2\u001b[1;33m \u001b[1;32massert\u001b[0m \u001b[1;32mFalse\u001b[0m\u001b[1;33m\u001b[0m\u001b[1;33m\u001b[0m\u001b[0m\n\u001b[0m",
      "\u001b[1;31mAssertionError\u001b[0m: "
     ]
    }
   ],
   "source": [
    "# This stops 'Run all' at this cell by causing an error before training\n",
    "assert False"
   ]
  },
  {
   "attachments": {},
   "cell_type": "markdown",
   "metadata": {},
   "source": [
    "### Train YOLOv3 model"
   ]
  },
  {
   "cell_type": "code",
   "execution_count": null,
   "metadata": {},
   "outputs": [],
   "source": [
    "# DO NOT MODIFY THIS CELL\n",
    "\n",
    "# Fix random seed for reproducibility\n",
    "fix_seed(seed=config.SEED)\n",
    "\n",
    "# Initialize model, optimizer, loss function and scaler\n",
    "model = YOLOv3(num_classes=config.NUM_CLASSES).to(config.DEVICE)\n",
    "optimizer = optim.Adam(\n",
    "    model.parameters(), lr=config.LEARNING_RATE, weight_decay=config.WEIGHT_DECAY\n",
    ")\n",
    "loss_fn = YoloLoss()\n",
    "scaler = torch.cuda.amp.GradScaler()\n",
    "\n",
    "# Scale anchors to each prediction scale\n",
    "scaled_anchors = (torch.tensor(config.ANCHORS)*torch.tensor(config.S).unsqueeze(1).unsqueeze(1).repeat(1, 3, 2)).to(config.DEVICE)\n",
    "\n",
    "print(config.DEVICE)"
   ]
  },
  {
   "cell_type": "code",
   "execution_count": null,
   "metadata": {},
   "outputs": [],
   "source": [
    "# DO NOT MODIFY THIS CELL\n",
    "\n",
    "for epoch in range(config.NUM_EPOCHS):\n",
    "    train_fn(train_loader, model, optimizer, loss_fn, scaler, scaled_anchors)\n",
    "    \n",
    "    if (epoch+1) % 10 == 0 and epoch > 0:\n",
    "        print(\"On Test loader:\")\n",
    "        check_class_accuracy(model, test_loader, threshold=config.CONF_THRESHOLD)"
   ]
  },
  {
   "attachments": {},
   "cell_type": "markdown",
   "metadata": {},
   "source": [
    "## Exercise 3: Tranfer learning\n",
    "Transfer Learning is the process of using knowledge and experience learned from one task to accelerate learning in another task. This can be achieved by leveraging pre-trained models, features, and weights from a previous task to reduce the amount of required data and time needed to train a new model for a different task. By doing this, the model's generalization ability and performance can be improved.  "
   ]
  },
  {
   "cell_type": "code",
   "execution_count": 14,
   "metadata": {},
   "outputs": [
    {
     "name": "stdout",
     "output_type": "stream",
     "text": [
      "cuda\n"
     ]
    }
   ],
   "source": [
    "# DO NOT MODIFY THIS CELL\n",
    "\n",
    "# Fix random seed for reproducibility\n",
    "fix_seed(seed=config.SEED)\n",
    "\n",
    "# Initialize model, optimizer, loss function and scaler\n",
    "model = YOLOv3(num_classes=config.NUM_CLASSES).to(config.DEVICE)\n",
    "optimizer = optim.Adam(\n",
    "    model.parameters(), lr=config.LEARNING_RATE, weight_decay=config.WEIGHT_DECAY\n",
    ")\n",
    "loss_fn = YoloLoss()\n",
    "scaler = torch.cuda.amp.GradScaler()\n",
    "\n",
    "# Scale anchors to each prediction scale\n",
    "scaled_anchors = (torch.tensor(config.ANCHORS)*torch.tensor(config.S).unsqueeze(1).unsqueeze(1).repeat(1, 3, 2)).to(config.DEVICE)\n",
    "\n",
    "print(config.DEVICE)"
   ]
  },
  {
   "attachments": {},
   "cell_type": "markdown",
   "metadata": {},
   "source": [
    "Try to use `torch.load()` to load the checkpoint file. Please utilize the item `\"state_dict\"` in checkpoint file to load pre-trained weight.  \n",
    "Reference: <https://pytorch.org/tutorials/beginner/saving_loading_models.html>"
   ]
  },
  {
   "cell_type": "code",
   "execution_count": 15,
   "metadata": {},
   "outputs": [
    {
     "name": "stdout",
     "output_type": "stream",
     "text": [
      "=> Loading checkpoint\n"
     ]
    }
   ],
   "source": [
    "def load_checkpoint(checkpoint_file, model, optimizer, lr):\n",
    "    print(\"=> Loading checkpoint\")\n",
    "    \n",
    "    # BEGIN your code here <<<<<<<<<<<<<<<<<<<<<<<<<<<<<<<<<<<<<<<<<<<<<<<<<<<<<<<<<<<<<<\n",
    "    checkpoint = torch.load(checkpoint_file, map_location=config.DEVICE)\n",
    "    model.load_state_dict(checkpoint[\"state_dict\"])\n",
    "    # END <<<<<<<<<<<<<<<<<<<<<<<<<<<<<<<<<<<<<<<<<<<<<<<<<<<<<<<<<<<<<<<<<<<<<<<<<<<<<<<\n",
    "\n",
    "load_checkpoint(\"78.1map_0.2threshold_PASCAL.tar\", model, optimizer, config.LEARNING_RATE)"
   ]
  },
  {
   "attachments": {},
   "cell_type": "markdown",
   "metadata": {},
   "source": [
    "The accuracy is low now but that is normal. This pre-trained weight is for PASCAL dataset. However, what we want here is the feature extraction ability from our previous training : )"
   ]
  },
  {
   "cell_type": "code",
   "execution_count": 16,
   "metadata": {},
   "outputs": [
    {
     "name": "stderr",
     "output_type": "stream",
     "text": [
      "100%|██████████| 2/2 [00:02<00:00,  1.35s/it]"
     ]
    },
    {
     "name": "stdout",
     "output_type": "stream",
     "text": [
      "Class accuracy is: 16.771488%\n",
      "No obj accuracy is: 99.572983%\n",
      "Obj accuracy is: 27.253670%\n"
     ]
    },
    {
     "name": "stderr",
     "output_type": "stream",
     "text": [
      "\n"
     ]
    }
   ],
   "source": [
    "check_class_accuracy(model, test_loader, threshold=config.CONF_THRESHOLD)"
   ]
  },
  {
   "attachments": {},
   "cell_type": "markdown",
   "metadata": {},
   "source": [
    "Try to use `torch.save()` to save the trained weight into the checkpoint file.  \n",
    "Reference: <https://pytorch.org/tutorials/beginner/saving_loading_models.html>"
   ]
  },
  {
   "cell_type": "code",
   "execution_count": 17,
   "metadata": {},
   "outputs": [],
   "source": [
    "def save_checkpoint(model, optimizer, filename=\"my_checkpoint.pth.tar\"):\n",
    "    print(\"=> Saving checkpoint\")\n",
    "    \n",
    "    # BEGIN your code here <<<<<<<<<<<<<<<<<<<<<<<<<<<<<<<<<<<<<<<<<<<<<<<<<<<<<<<<<<<<<<\n",
    "    checkpoint = {\n",
    "        \"state_dict\": model.state_dict(),\n",
    "    }\n",
    "    torch.save(checkpoint, filename)\n",
    "    # END <<<<<<<<<<<<<<<<<<<<<<<<<<<<<<<<<<<<<<<<<<<<<<<<<<<<<<<<<<<<<<<<<<<<<<<<<<<<<<<"
   ]
  },
  {
   "cell_type": "markdown",
   "metadata": {},
   "source": [
    "EarlyStopping testing"
   ]
  },
  {
   "cell_type": "code",
   "execution_count": 18,
   "metadata": {},
   "outputs": [],
   "source": [
    "import numpy as np\n",
    "\n",
    "def val_fn(val_loader, model, loss_fn, scaled_anchors):\n",
    "    model.eval()\n",
    "    loop = tqdm(val_loader ,desc=f'Validation')\n",
    "    losses = []\n",
    "    with torch.no_grad():\n",
    "        for _, (x, y) in enumerate(loop):\n",
    "            x = x.to(config.DEVICE)\n",
    "            y0, y1, y2 = (\n",
    "                y[0].to(config.DEVICE),\n",
    "                y[1].to(config.DEVICE),\n",
    "                y[2].to(config.DEVICE),\n",
    "            )\n",
    "\n",
    "            with torch.cuda.amp.autocast():\n",
    "                out = model(x)\n",
    "                loss = (\n",
    "                    loss_fn(out[0], y0, scaled_anchors[0])\n",
    "                    + loss_fn(out[1], y1, scaled_anchors[1])\n",
    "                    + loss_fn(out[2], y2, scaled_anchors[2])\n",
    "                )\n",
    "                \n",
    "            losses.append(loss.item())\n",
    "\n",
    "            # update progress bar\n",
    "            mean_loss = sum(losses) / len(losses)\n",
    "            loop.set_postfix(loss=mean_loss)\n",
    "            loop.update(list(x.shape)[0])\n",
    "            \n",
    "    return loss.item()\n",
    "\n",
    "class EarlyStopping:\n",
    "    \"\"\"Early stops the training if validation loss doesn't improve after a given patience.\"\"\"\n",
    "    def __init__(self, patience=7, verbose=False, delta=0, path='checkpoint.pth', trace_func=print):\n",
    "        \"\"\"\n",
    "        Args:\n",
    "            patience (int): How long to wait after last time validation loss improved.\n",
    "                            Default: 7\n",
    "            verbose (bool): If True, prints a message for each validation loss improvement. \n",
    "                            Default: False\n",
    "            delta (float): Minimum change in the monitored quantity to qualify as an improvement.\n",
    "                            Default: 0\n",
    "            path (str): Path for the checkpoint to be saved to. \n",
    "                            Default: 'checkpoint.pth'\n",
    "            trace_func (function): trace print function.\n",
    "                            Default: print            \n",
    "        \"\"\"\n",
    "        self.patience = patience\n",
    "        self.verbose = verbose\n",
    "        self.counter = 0\n",
    "        self.best_score = None\n",
    "        self.early_stop = False\n",
    "        self.val_loss_min = np.Inf\n",
    "        self.delta = delta\n",
    "        self.path = path\n",
    "        self.trace_func = trace_func\n",
    "        \n",
    "    def __call__(self, val_loss, model, epoch):\n",
    "        \n",
    "        score = -val_loss\n",
    "\n",
    "        if self.best_score is None:\n",
    "            self.best_score = score\n",
    "            self.save_checkpoint(val_loss, model, epoch)\n",
    "        elif score < self.best_score + self.delta:\n",
    "            self.counter += 1\n",
    "            self.trace_func(f'EarlyStopping counter: {self.counter} out of {self.patience}')\n",
    "            if self.counter >= self.patience:\n",
    "                self.early_stop = True\n",
    "        else:\n",
    "            self.best_score = score\n",
    "            self.save_checkpoint(val_loss, model, epoch)\n",
    "            self.counter = 0\n",
    "\n",
    "    def save_checkpoint(self, val_loss, model, epoch):\n",
    "        '''Saves model when validation loss decrease.'''\n",
    "        if self.verbose:\n",
    "            self.trace_func(f'Validation loss decreased ({self.val_loss_min:.6f} --> {val_loss:.6f}).  Saving best model ...')\n",
    "        torch.save({\n",
    "            'epoch':epoch,\n",
    "            'model_state_dict':model.state_dict(),\n",
    "            }, self.path)\n",
    "        self.val_loss_min = val_loss"
   ]
  },
  {
   "attachments": {},
   "cell_type": "markdown",
   "metadata": {},
   "source": [
    "It is high now!!! This is like taking the advantage from previous experience and fit on our current task : )  \n",
    "We train same 10 epoch. However, this time converge much faster and perform better : )"
   ]
  },
  {
   "cell_type": "code",
   "execution_count": 19,
   "metadata": {},
   "outputs": [
    {
     "name": "stderr",
     "output_type": "stream",
     "text": [
      "100%|██████████| 23/23 [00:12<00:00,  1.85it/s, loss=36]  \n",
      "Validation: 100%|██████████| 2/2 [00:00<00:00,  3.73it/s, loss=25.2]\n"
     ]
    },
    {
     "name": "stdout",
     "output_type": "stream",
     "text": [
      "Validation loss decreased (inf --> 25.279404).  Saving best model ...\n"
     ]
    },
    {
     "name": "stderr",
     "output_type": "stream",
     "text": [
      "100%|██████████| 23/23 [00:11<00:00,  1.95it/s, loss=23.5]\n",
      "Validation: 100%|██████████| 2/2 [00:00<00:00,  3.85it/s, loss=21.5]\n"
     ]
    },
    {
     "name": "stdout",
     "output_type": "stream",
     "text": [
      "Validation loss decreased (25.279404 --> 20.718838).  Saving best model ...\n"
     ]
    },
    {
     "name": "stderr",
     "output_type": "stream",
     "text": [
      "100%|██████████| 23/23 [00:11<00:00,  1.95it/s, loss=21.4]\n",
      "Validation: 100%|██████████| 2/2 [00:00<00:00,  3.87it/s, loss=20.4]\n"
     ]
    },
    {
     "name": "stdout",
     "output_type": "stream",
     "text": [
      "Validation loss decreased (20.718838 --> 19.911188).  Saving best model ...\n"
     ]
    },
    {
     "name": "stderr",
     "output_type": "stream",
     "text": [
      "100%|██████████| 23/23 [00:11<00:00,  1.96it/s, loss=20.3]\n",
      "Validation: 100%|██████████| 2/2 [00:00<00:00,  3.82it/s, loss=19.8]\n"
     ]
    },
    {
     "name": "stdout",
     "output_type": "stream",
     "text": [
      "Validation loss decreased (19.911188 --> 19.599941).  Saving best model ...\n"
     ]
    },
    {
     "name": "stderr",
     "output_type": "stream",
     "text": [
      "100%|██████████| 23/23 [00:12<00:00,  1.80it/s, loss=19.6]\n",
      "Validation: 100%|██████████| 2/2 [00:00<00:00,  3.66it/s, loss=19.4]\n"
     ]
    },
    {
     "name": "stdout",
     "output_type": "stream",
     "text": [
      "Validation loss decreased (19.599941 --> 19.283033).  Saving best model ...\n"
     ]
    },
    {
     "name": "stderr",
     "output_type": "stream",
     "text": [
      "100%|██████████| 23/23 [00:12<00:00,  1.80it/s, loss=19.1]\n",
      "Validation: 100%|██████████| 2/2 [00:00<00:00,  3.66it/s, loss=19]\n"
     ]
    },
    {
     "name": "stdout",
     "output_type": "stream",
     "text": [
      "Validation loss decreased (19.283033 --> 19.006765).  Saving best model ...\n"
     ]
    },
    {
     "name": "stderr",
     "output_type": "stream",
     "text": [
      "100%|██████████| 23/23 [00:12<00:00,  1.81it/s, loss=18.7]\n",
      "Validation: 100%|██████████| 2/2 [00:00<00:00,  3.60it/s, loss=18.8]\n"
     ]
    },
    {
     "name": "stdout",
     "output_type": "stream",
     "text": [
      "Validation loss decreased (19.006765 --> 18.800213).  Saving best model ...\n"
     ]
    },
    {
     "name": "stderr",
     "output_type": "stream",
     "text": [
      "100%|██████████| 23/23 [00:12<00:00,  1.80it/s, loss=18.4]\n",
      "Validation: 100%|██████████| 2/2 [00:00<00:00,  3.48it/s, loss=18.7]\n"
     ]
    },
    {
     "name": "stdout",
     "output_type": "stream",
     "text": [
      "Validation loss decreased (18.800213 --> 18.625561).  Saving best model ...\n"
     ]
    },
    {
     "name": "stderr",
     "output_type": "stream",
     "text": [
      "100%|██████████| 23/23 [00:12<00:00,  1.80it/s, loss=18.1]\n",
      "Validation: 100%|██████████| 2/2 [00:00<00:00,  3.56it/s, loss=18.4]\n"
     ]
    },
    {
     "name": "stdout",
     "output_type": "stream",
     "text": [
      "Validation loss decreased (18.625561 --> 18.447903).  Saving best model ...\n"
     ]
    },
    {
     "name": "stderr",
     "output_type": "stream",
     "text": [
      "100%|██████████| 23/23 [00:12<00:00,  1.80it/s, loss=17.9]\n",
      "Validation: 100%|██████████| 2/2 [00:00<00:00,  3.51it/s, loss=18.3]\n"
     ]
    },
    {
     "name": "stdout",
     "output_type": "stream",
     "text": [
      "Validation loss decreased (18.447903 --> 18.240108).  Saving best model ...\n",
      "On Test loader:\n"
     ]
    },
    {
     "name": "stderr",
     "output_type": "stream",
     "text": [
      "100%|██████████| 2/2 [00:00<00:00,  2.93it/s]\n"
     ]
    },
    {
     "name": "stdout",
     "output_type": "stream",
     "text": [
      "Class accuracy is: 98.742142%\n",
      "No obj accuracy is: 98.992165%\n",
      "Obj accuracy is: 83.857437%\n"
     ]
    },
    {
     "name": "stderr",
     "output_type": "stream",
     "text": [
      "100%|██████████| 23/23 [00:13<00:00,  1.75it/s, loss=19.2]\n",
      "Validation: 100%|██████████| 2/2 [00:00<00:00,  3.57it/s, loss=18.6]"
     ]
    },
    {
     "name": "stdout",
     "output_type": "stream",
     "text": [
      "EarlyStopping counter: 1 out of 1\n",
      "Early stop at  10 epoch.\n"
     ]
    },
    {
     "name": "stderr",
     "output_type": "stream",
     "text": [
      "\n"
     ]
    }
   ],
   "source": [
    "# DO NOT MODIFY THIS CELL\n",
    "early_stopping = EarlyStopping(patience=1, verbose=True)    # Initialize the early_stopping object outside the loop\n",
    "\n",
    "for epoch in range(config.NUM_EPOCHS):\n",
    "    train_fn(train_loader, model, optimizer, loss_fn, scaler, scaled_anchors)\n",
    "    val_loss = val_fn(test_loader, model, loss_fn, scaled_anchors)\n",
    "\n",
    "    early_stopping(val_loss, model, epoch)\n",
    "\n",
    "    if (epoch+1) % 10 == 0 and epoch > 0:\n",
    "        print(\"On Test loader:\")\n",
    "        check_class_accuracy(model, test_loader, threshold=config.CONF_THRESHOLD)\n",
    "    \n",
    "    if epoch+1 == config.NUM_EPOCHS:\n",
    "        save_checkpoint(model, optimizer, filename=f\"my_checkpoint_student.pth.tar\")\n",
    "        \n",
    "    if early_stopping.early_stop:\n",
    "        print(\"Early stop at \",epoch,\"epoch.\")\n",
    "        break"
   ]
  },
  {
   "cell_type": "code",
   "execution_count": null,
   "metadata": {},
   "outputs": [],
   "source": []
  }
 ],
 "metadata": {
  "kernelspec": {
   "display_name": "auto_labeling",
   "language": "python",
   "name": "python3"
  },
  "language_info": {
   "codemirror_mode": {
    "name": "ipython",
    "version": 3
   },
   "file_extension": ".py",
   "mimetype": "text/x-python",
   "name": "python",
   "nbconvert_exporter": "python",
   "pygments_lexer": "ipython3",
   "version": "3.9.7"
  },
  "orig_nbformat": 4,
  "vscode": {
   "interpreter": {
    "hash": "ec129e0590d45a22483b850cd1c473456f2c02a48b73be1599d608a53736fee7"
   }
  }
 },
 "nbformat": 4,
 "nbformat_minor": 2
}
