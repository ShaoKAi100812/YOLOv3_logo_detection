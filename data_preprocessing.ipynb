{
 "cells": [
  {
   "cell_type": "code",
   "execution_count": 32,
   "metadata": {},
   "outputs": [
    {
     "name": "stdout",
     "output_type": "stream",
     "text": [
      "正在搜索: flickr_logos_27_dataset.tar.gz\n",
      "找到子.tar.gz檔案: c:\\Users\\jrimm\\Documents\\tue\\YOLOv3_logo_detection/flickr_logos_27_dataset\\flickr_logos_27_dataset\\flickr_logos_27_dataset_images.tar.gz\n",
      "正在搜索: c:\\Users\\jrimm\\Documents\\tue\\YOLOv3_logo_detection/flickr_logos_27_dataset\\flickr_logos_27_dataset\\flickr_logos_27_dataset_images.tar.gz\n",
      "搜索完成: c:\\Users\\jrimm\\Documents\\tue\\YOLOv3_logo_detection/flickr_logos_27_dataset\\flickr_logos_27_dataset\\flickr_logos_27_dataset_images.tar.gz\n",
      "搜索完成: flickr_logos_27_dataset.tar.gz\n"
     ]
    }
   ],
   "source": [
    "import os\n",
    "import tarfile\n",
    "\n",
    "# 定義函式來遞迴搜索.tar.gz檔案中的子檔案\n",
    "def search_tar_gz(tar_gz_file, current_dir=os.getcwd()):\n",
    "    print(\"正在搜索:\", tar_gz_file)\n",
    "    # 解壓縮主.tar.gz檔案\n",
    "    with tarfile.open(tar_gz_file, 'r:gz') as tar:\n",
    "        # 更新當前工作目錄\n",
    "        current_dir = current_dir + '/' + tar.getnames()[0]\n",
    "        # 提取全部檔案到暫存目錄\n",
    "        tar.extractall(path=current_dir)\n",
    "        \n",
    "    # 遞迴搜索暫存目錄底下的所有檔案\n",
    "    for root, dirs, files in os.walk(current_dir):\n",
    "        for file in files:\n",
    "            if file.endswith('.tar.gz'):\n",
    "                # 如果有子.tar.gz檔案，列印其路徑\n",
    "                sub_tar_gz_file = os.path.join(root, file)\n",
    "                print(\"找到子.tar.gz檔案:\", sub_tar_gz_file)\n",
    "                # 遞迴搜索子.tar.gz檔案的內容\n",
    "                search_tar_gz(sub_tar_gz_file, current_dir)\n",
    "    print(\"搜索完成:\", tar_gz_file)\n",
    "\n",
    "# 主.tar.gz檔案\n",
    "main_tar_gz_file = 'flickr_logos_27_dataset.tar.gz'\n",
    "\n",
    "# 呼叫函式來搜索主.tar.gz檔案中的子檔案\n",
    "search_tar_gz(main_tar_gz_file)\n"
   ]
  },
  {
   "cell_type": "code",
   "execution_count": null,
   "metadata": {},
   "outputs": [],
   "source": []
  }
 ],
 "metadata": {
  "kernelspec": {
   "display_name": "base",
   "language": "python",
   "name": "python3"
  },
  "language_info": {
   "codemirror_mode": {
    "name": "ipython",
    "version": 3
   },
   "file_extension": ".py",
   "mimetype": "text/x-python",
   "name": "python",
   "nbconvert_exporter": "python",
   "pygments_lexer": "ipython3",
   "version": "3.9.7"
  }
 },
 "nbformat": 4,
 "nbformat_minor": 2
}
